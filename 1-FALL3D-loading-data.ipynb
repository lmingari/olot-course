{
 "cells": [
  {
   "cell_type": "code",
   "execution_count": null,
   "id": "4d39f4bb-eb22-4dd7-a5c6-e3d651fdb29d",
   "metadata": {
    "editable": true,
    "slideshow": {
     "slide_type": "skip"
    },
    "tags": []
   },
   "outputs": [],
   "source": [
    "### Install requirements\n",
    "from os.path import isfile\n",
    "\n",
    "repository   = \"https://github.com/lmingari/olot-course.git\"\n",
    "requirements = \"requirements-section1.txt\"\n",
    "\n",
    "if not isfile(requirements):\n",
    "    !git clone {repository}\n",
    "    %cd olot-course\n",
    "    !pip install -r {requirements}"
   ]
  },
  {
   "cell_type": "markdown",
   "id": "88948983-eda2-4872-9c3a-232cec2f8d31",
   "metadata": {
    "editable": true,
    "slideshow": {
     "slide_type": "slide"
    },
    "tags": []
   },
   "source": [
    "# 1. Loading a FALL3D output file\n",
    "***"
   ]
  },
  {
   "cell_type": "markdown",
   "id": "2dc4ce76-dbdd-4124-afe4-c583a0248e2b",
   "metadata": {
    "editable": true,
    "slideshow": {
     "slide_type": ""
    },
    "tags": []
   },
   "source": [
    "* Results from FALL3D simulations are stored in [netCDF][netcdf] format. \n",
    "\n",
    "* __NetCDF (network Common Data Form)__ is an open-source file format and associated software libraries for creating, accessing, and sharing scientific data, particularly multidimensional arrays like meteorological variables\n",
    "\n",
    "* In order to open and manipulate data from netCDF files, we can use the python package `xarray`. \n",
    "\n",
    "* Maps will be created from the model data using `Cartopy`, a Python package designed for geospatial data processing in order to produce maps and other geospatial data analyses.\n",
    "\n",
    "> &#9888; __Note__ <br>\n",
    "> Some examples of Python scripts for plotting FALL3D outputs can be found in the [FALL3D user guide][fall3d].\n",
    "\n",
    "[netcdf]: https://www.unidata.ucar.edu/software/netcdf \"netCDF\"\n",
    "[fall3d]: https://fall3d-suite.gitlab.io/fall3d/hands-on/introduction.html \"FALL3D user guide\""
   ]
  },
  {
   "cell_type": "markdown",
   "id": "178807db-a4fa-4221-beda-4e2f6806c415",
   "metadata": {
    "editable": true,
    "slideshow": {
     "slide_type": "subslide"
    },
    "tags": []
   },
   "source": [
    "## Data structure: dataset and dataarray\n",
    "\n",
    "The N-dimensional nature of Xarray’s data structures makes it suitable for dealing with multi-dimensional scientific data, and its use of dimension names instead of axis labels (`dim='time'` instead of `axis=0`) makes such arrays much more manageable.\n",
    "\n",
    "Here is an example of how we might structure a dataset for a weather forecast:\n",
    "\n",
    "| Dataset and DataArray structures |\n",
    "| --- |\n",
    "| ![](https://docs.xarray.dev/en/stable/_images/dataset-diagram.png) |"
   ]
  },
  {
   "cell_type": "markdown",
   "id": "de9fdea7-30d8-4c0d-8f83-af924de3b2ca",
   "metadata": {
    "editable": true,
    "slideshow": {
     "slide_type": "subslide"
    },
    "tags": []
   },
   "source": [
    "#### Importing modules"
   ]
  },
  {
   "cell_type": "code",
   "execution_count": null,
   "id": "ba5126e2-5e1a-467a-a4a8-6308656b9ee3",
   "metadata": {},
   "outputs": [],
   "source": [
    "import xarray as xr                              # multi-dimensional arrays for NetCDF data\n",
    "import numpy as np                               # numerical operations on arrays\n",
    "import matplotlib.pyplot as plt                  # plots and visualizations\n",
    "import cartopy.crs as crs                        # coordinate systems for maps\n",
    "import cartopy.feature as cfeature"
   ]
  },
  {
   "cell_type": "markdown",
   "id": "8f7d2b60-3643-4781-a122-1450ad8b19d5",
   "metadata": {
    "editable": true,
    "slideshow": {
     "slide_type": "subslide"
    },
    "tags": []
   },
   "source": [
    "#### Loading data and inspecting file structure"
   ]
  },
  {
   "cell_type": "code",
   "execution_count": null,
   "id": "ae685c0c-c3da-4ffd-b593-2a4432475cb1",
   "metadata": {
    "editable": true,
    "slideshow": {
     "slide_type": ""
    },
    "tags": []
   },
   "outputs": [],
   "source": [
    "from os.path import isfile\n",
    "\n",
    "## Get a FALL3D output file\n",
    "fname = \"data/olot_20251024.res.nc\"\n",
    "if not isfile(fname):\n",
    "    !wget -P ./data https://saco.csic.es/s/RscfFwe7XWgDi84/download/olot_20251024.res.nc"
   ]
  },
  {
   "cell_type": "code",
   "execution_count": null,
   "id": "e6fe5530-3ae8-452a-aab7-6d5bccec5e1f",
   "metadata": {},
   "outputs": [],
   "source": [
    "## Open a netCDF file in a xarray dataset\n",
    "ds = xr.open_dataset(fname)\n",
    "\n",
    "# Let's see the structure of the data\n",
    "ds"
   ]
  },
  {
   "cell_type": "markdown",
   "id": "67a9e18e-0c58-4701-9aee-d7503ff475f1",
   "metadata": {
    "editable": true,
    "slideshow": {
     "slide_type": "subslide"
    },
    "tags": []
   },
   "source": [
    "#### Selecting variables and indexing"
   ]
  },
  {
   "cell_type": "code",
   "execution_count": null,
   "id": "fa48bb8a-c94c-41c0-8bdf-885aaa585303",
   "metadata": {},
   "outputs": [],
   "source": [
    "# Selecting a single variable\n",
    "da = ds['tephra_col_mass']\n",
    "da"
   ]
  },
  {
   "cell_type": "code",
   "execution_count": null,
   "id": "f7443f56-3b35-4693-ae33-9923f2619f8f",
   "metadata": {},
   "outputs": [],
   "source": [
    "# Indexing\n",
    "da = ds['tephra_col_mass'].isel(time=24)\n",
    "da"
   ]
  },
  {
   "cell_type": "code",
   "execution_count": null,
   "id": "fe4a15e5-26cd-4686-9ec1-ce1d04aa6c5d",
   "metadata": {
    "editable": true,
    "slideshow": {
     "slide_type": ""
    },
    "tags": []
   },
   "outputs": [],
   "source": [
    "da.time"
   ]
  },
  {
   "cell_type": "markdown",
   "id": "4d18db5f-cbf1-40ab-abe9-24aded7390b7",
   "metadata": {
    "editable": true,
    "slideshow": {
     "slide_type": "slide"
    },
    "tags": []
   },
   "source": [
    "## Plotting geodata with cartopy"
   ]
  },
  {
   "cell_type": "markdown",
   "id": "b9dd134b-2a6c-4f4d-9351-9a14e0b858df",
   "metadata": {
    "editable": true,
    "slideshow": {
     "slide_type": ""
    },
    "tags": []
   },
   "source": [
    "#### Creating an empty map"
   ]
  },
  {
   "cell_type": "code",
   "execution_count": null,
   "id": "a363f9c9-4c63-4d09-8ef6-c5b1edab7f37",
   "metadata": {},
   "outputs": [],
   "source": [
    "from helper_plot import create_map\n",
    "fig, ax = create_map()"
   ]
  },
  {
   "cell_type": "code",
   "execution_count": null,
   "id": "a12f482c-6981-49da-9280-d8976bb8e823",
   "metadata": {},
   "outputs": [],
   "source": [
    "fig, ax = create_map()\n",
    "###\n",
    "### Set map limits\n",
    "###\n",
    "ax.set_extent([-10, 15, 30, 50]) # [x1,x2,y1,y2]\n",
    "###\n",
    "### Volcà del Montsacopa\n",
    "####\n",
    "vlat, vlon = 42.187193, 2.488525\n",
    "###\n",
    "### Add vent location\n",
    "###\n",
    "ax.plot(vlon,vlat,color='red',marker='^')"
   ]
  },
  {
   "cell_type": "markdown",
   "id": "843613be-9db0-4592-88a4-59ed85dc44ff",
   "metadata": {
    "editable": true,
    "slideshow": {
     "slide_type": "subslide"
    },
    "tags": []
   },
   "source": [
    "#### Plotting filled contours"
   ]
  },
  {
   "cell_type": "code",
   "execution_count": null,
   "id": "96eaf2da-6d5b-4c43-bf25-472072c73ab7",
   "metadata": {
    "editable": true,
    "slideshow": {
     "slide_type": ""
    },
    "tags": []
   },
   "outputs": [],
   "source": [
    "fig, ax = create_map()\n",
    "\n",
    "###\n",
    "### Volcà del Montsacopa\n",
    "###\n",
    "vlat, vlon = 42.187193, 2.488525\n",
    "\n",
    "fc = ax.contourf(\n",
    "    da.lon,da.lat,da,\n",
    "    levels    = [0.1, 0.5, 1, 1.5, 2.0, 2.5, 3.0, 3.5, 4.0, 4.5, 5.0, 6, 7, 8, 9, 10],\n",
    "    cmap      = plt.cm.RdYlBu_r,\n",
    "    extend    = 'max',\n",
    "    )\n",
    "\n",
    "cbar = fig.colorbar(\n",
    "    fc, \n",
    "    orientation = 'horizontal',\n",
    "    label = r'Tephra column mass [$g~m^{-2}$]',\n",
    "    shrink = 0.5,\n",
    "    )\n",
    "_ = ax.set(title='FALL3D output')"
   ]
  },
  {
   "cell_type": "markdown",
   "id": "84bc2a08-09cd-4ba9-8e9a-c31e8c7e2ee1",
   "metadata": {
    "editable": true,
    "slideshow": {
     "slide_type": "slide"
    },
    "tags": []
   },
   "source": [
    "## Working with ensemble data"
   ]
  },
  {
   "cell_type": "markdown",
   "id": "390e30a2-d3b0-4787-8705-ac1de32c4386",
   "metadata": {},
   "source": [
    "#### Probabilistic dispersion modelling of an eruption at La Palma with FALL3D"
   ]
  },
  {
   "cell_type": "code",
   "execution_count": null,
   "id": "77ff6871-5221-4f8a-acca-c166250728d5",
   "metadata": {
    "editable": true,
    "slideshow": {
     "slide_type": ""
    },
    "tags": []
   },
   "outputs": [],
   "source": [
    "from os.path import isfile\n",
    "\n",
    "## Get a FALL3D ensemble run output\n",
    "fname = \"data/tephra_col_mass.ens.nc\"\n",
    "if not isfile(fname):\n",
    "    !wget -P ./data https://saco.csic.es/s/wFpKYG5bHfTwKbi/download/tephra_col_mass.ens.nc"
   ]
  },
  {
   "cell_type": "code",
   "execution_count": null,
   "id": "04a4436a-9386-4025-b4c6-e8ce9b9d3c0b",
   "metadata": {
    "editable": true,
    "slideshow": {
     "slide_type": ""
    },
    "tags": []
   },
   "outputs": [],
   "source": [
    "# Open a netCDF file in a xarray dataset\n",
    "ds = xr.open_dataset(fname)\n",
    "da = ds['tephra_col_mass']\n",
    "da"
   ]
  },
  {
   "cell_type": "markdown",
   "id": "d2babd4b-98b0-446b-8bb8-797b64391c66",
   "metadata": {
    "editable": true,
    "slideshow": {
     "slide_type": "subslide"
    },
    "tags": []
   },
   "source": [
    "#### Exceedance probabilities"
   ]
  },
  {
   "cell_type": "markdown",
   "id": "89a6f3e4-47dd-489a-96fc-62de59e8f928",
   "metadata": {},
   "source": [
    "Given an ensemble of column mass forecasts, let's:\n",
    "* Compute exceedance probabilities for an intensity threshold of $10~g/m^2$\n",
    "* Plot contour lines for probabilities of 2%, 25%, 50%, 75%, 98%"
   ]
  },
  {
   "cell_type": "code",
   "execution_count": null,
   "id": "2eb0253a-dfae-4215-928f-63bf0166634c",
   "metadata": {
    "editable": true,
    "slideshow": {
     "slide_type": ""
    },
    "tags": []
   },
   "outputs": [],
   "source": [
    "## Compute the probability of exceeding 10 g/m2\n",
    "threshold = 10\n",
    "probabilities = 100*(da>threshold).mean(dim='ens')\n",
    "probabilities"
   ]
  },
  {
   "cell_type": "code",
   "execution_count": null,
   "id": "c29bb6b7-e40a-4c73-9b38-9cb888bdd5d3",
   "metadata": {
    "editable": true,
    "slideshow": {
     "slide_type": ""
    },
    "tags": []
   },
   "outputs": [],
   "source": [
    "## Create a probability contour plot\n",
    "fig, ax = create_map()\n",
    "\n",
    "cs = ax.contour(\n",
    "    da.lon,da.lat,probabilities,\n",
    "    levels    = [2, 25, 50, 75, 98],\n",
    "    )\n",
    "ax.clabel(cs, cs.levels, inline = False, fontsize=10)\n",
    "ax.set_extent([-22, -11, 23.5, 29]) # [x1,x2,y1,y2]\n",
    "ax.set(title='Exceedance probabilities')"
   ]
  },
  {
   "cell_type": "markdown",
   "id": "6bf70020-41ab-4b52-91c6-55b9edf4a385",
   "metadata": {
    "editable": true,
    "slideshow": {
     "slide_type": "slide"
    },
    "tags": []
   },
   "source": [
    "> &#9998; **Exercise:** <br>\n",
    "> Compute and plot the ensemble mean for the tephra column mass"
   ]
  }
 ],
 "metadata": {
  "kernelspec": {
   "display_name": "Python 3 (ipykernel)",
   "language": "python",
   "name": "python3"
  },
  "language_info": {
   "codemirror_mode": {
    "name": "ipython",
    "version": 3
   },
   "file_extension": ".py",
   "mimetype": "text/x-python",
   "name": "python",
   "nbconvert_exporter": "python",
   "pygments_lexer": "ipython3",
   "version": "3.13.7"
  },
  "rise": {
   "scroll": true,
   "start_slideshow_at": "beginning",
   "theme": "sky"
  }
 },
 "nbformat": 4,
 "nbformat_minor": 5
}
