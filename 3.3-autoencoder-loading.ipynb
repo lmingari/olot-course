{
 "cells": [
  {
   "cell_type": "code",
   "execution_count": null,
   "id": "e909df5b-66d4-4ca4-b277-faf57fb5e76a",
   "metadata": {},
   "outputs": [],
   "source": [
    "### Install requirements\n",
    "from os.path import isfile\n",
    "\n",
    "repository   = \"https://github.com/lmingari/olot-course.git\"\n",
    "requirements = \"requirements-section3-3.txt\"\n",
    "\n",
    "if not isfile(requirements):\n",
    "    !git clone {repository}\n",
    "    %cd olot-course\n",
    "    !pip install -r {requirements}"
   ]
  },
  {
   "cell_type": "markdown",
   "id": "867ab104-5c68-4725-b73a-19d1cfc25ce8",
   "metadata": {},
   "source": [
    "# 3.3 Autoencoder (II): Loading a pre-trained model\n",
    "***"
   ]
  },
  {
   "cell_type": "markdown",
   "id": "e18bcc32-8415-4a05-992e-e3fc6e49d183",
   "metadata": {},
   "source": [
    "## Load weights"
   ]
  },
  {
   "cell_type": "code",
   "execution_count": null,
   "id": "5e4c5f7f-67d6-4b21-89e6-00cb1428adac",
   "metadata": {},
   "outputs": [],
   "source": [
    "## Import modules\n",
    "import torch\n",
    "import matplotlib.pyplot as plt\n",
    "\n",
    "## Load weight parameters and some metadata\n",
    "FNAME_MODEL = 'models/autoencoder.pt'\n",
    "checkpoint = torch.load(FNAME_MODEL)"
   ]
  },
  {
   "cell_type": "markdown",
   "id": "bf828fde-51c3-492c-884d-6c786d27466b",
   "metadata": {},
   "source": [
    "## Restore trained model"
   ]
  },
  {
   "cell_type": "code",
   "execution_count": null,
   "id": "9bbfde7c-6af5-4d86-b6ee-3ad37e887236",
   "metadata": {},
   "outputs": [],
   "source": [
    "from helper import Autoencoder\n",
    "\n",
    "### Recreate the model\n",
    "model = Autoencoder(checkpoint['LATENT_DIM'])\n",
    "model.load_state_dict(checkpoint['model_state_dict'])"
   ]
  },
  {
   "cell_type": "code",
   "execution_count": null,
   "id": "c1b0b807-17bd-44c2-adbe-825328dc2656",
   "metadata": {},
   "outputs": [],
   "source": [
    "# Load model for inference\n",
    "model.eval()"
   ]
  },
  {
   "cell_type": "markdown",
   "id": "f564787b-3058-40fd-bb04-3cab022074bd",
   "metadata": {},
   "source": [
    "## Generating new samples"
   ]
  },
  {
   "cell_type": "code",
   "execution_count": null,
   "id": "53f54e14-ad06-4e0e-ac96-7169eaa1e54f",
   "metadata": {},
   "outputs": [],
   "source": [
    "from helper import MinMaxScale\n",
    "\n",
    "# Normalization transformation\n",
    "min_value = checkpoint['MINVAL']\n",
    "max_value = checkpoint['MAXVAL']\n",
    "transform = MinMaxScale(min_value, max_value)\n",
    "min_value, max_value"
   ]
  },
  {
   "cell_type": "code",
   "execution_count": null,
   "id": "56043828-aa23-4c3c-8a21-9f4fa63f0372",
   "metadata": {},
   "outputs": [],
   "source": [
    "z = torch.tensor([[-1.,-5]], dtype=torch.float32)\n",
    "with torch.no_grad():\n",
    "    new_sample = model.decode(z)\n",
    "    x = transform.invert(new_sample).squeeze()"
   ]
  },
  {
   "cell_type": "code",
   "execution_count": null,
   "id": "3f78a4f7-14af-4e8d-b068-e820fc9ef7ff",
   "metadata": {},
   "outputs": [],
   "source": [
    "## Plotting reconstructions for validation dataset \n",
    "plot_conf = {\n",
    "    'cmap': 'RdYlBu_r',\n",
    "    'vmin': 0, \n",
    "    'vmax': 30,\n",
    "}\n",
    "\n",
    "fig, ax = plt.subplots()\n",
    "ax.pcolormesh(x,**plot_conf)"
   ]
  },
  {
   "cell_type": "code",
   "execution_count": null,
   "id": "fb98ec0c-0dfb-4f3d-b973-efb42acd7a46",
   "metadata": {},
   "outputs": [],
   "source": []
  }
 ],
 "metadata": {
  "kernelspec": {
   "display_name": "Python 3 (ipykernel)",
   "language": "python",
   "name": "python3"
  },
  "language_info": {
   "codemirror_mode": {
    "name": "ipython",
    "version": 3
   },
   "file_extension": ".py",
   "mimetype": "text/x-python",
   "name": "python",
   "nbconvert_exporter": "python",
   "pygments_lexer": "ipython3",
   "version": "3.13.7"
  }
 },
 "nbformat": 4,
 "nbformat_minor": 5
}
